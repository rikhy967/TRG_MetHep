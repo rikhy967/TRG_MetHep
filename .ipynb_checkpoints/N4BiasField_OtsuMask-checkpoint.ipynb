{
 "cells": [
  {
   "cell_type": "code",
   "execution_count": 4,
   "id": "b6f70ea1-8310-4b90-b852-11aaf10ab5b9",
   "metadata": {},
   "outputs": [],
   "source": [
    "import SimpleITK as sitk\n",
    "import os\n",
    "import matplotlib.pyplot as plt\n",
    "import numpy as np\n",
    "import pandas as pd"
   ]
  },
  {
   "cell_type": "code",
   "execution_count": 5,
   "id": "ab7f6f79-ee7d-40c6-886a-2764cfb484a5",
   "metadata": {},
   "outputs": [],
   "source": [
    "\n",
    "\n",
    "patientID=os.listdir('/home/riccardo/Scrivania/Volumi_fegato_nifti/Complete/Vol/')\n",
    "df = pd.DataFrame()\n",
    "\n"
   ]
  },
  {
   "cell_type": "code",
   "execution_count": 7,
   "id": "9afb503e-58e6-48b2-9a2c-bf86f21205f4",
   "metadata": {
    "tags": []
   },
   "outputs": [],
   "source": [
    "def N4_bias_field (image):\n",
    "    \n",
    "    maskImage = sitk.OtsuThreshold(image, 0, 1, 200)\n",
    "    mask_otsu = sitk.GetArrayFromImage(maskImage)\n",
    "    \n",
    "    \"N4 BIAS FIELD CORRECTION\"\n",
    "\n",
    "    \"Input parameters\"\n",
    "    shrink_factor = 3\n",
    "    numberFittingLevels = 4  \n",
    "    num_iterations = 50  \n",
    "    num_control_points = 4  \n",
    "    convergence_threshold = 0.001  \n",
    "    spline_order = 3  \n",
    "    FWHM = 0.15  \n",
    "\n",
    "\n",
    "    \"Foreground mask that guides the bias field's correction\"\n",
    "    \"Otsu's Thresholding\"\n",
    "    outside_value = 1  \n",
    "    inside_value = 0  \n",
    "    number_of_histogram_bins = 200\n",
    "    \n",
    "\n",
    "    \"Set the N4's features\"\n",
    "    corrector = sitk.N4BiasFieldCorrectionImageFilter()\n",
    "    corrector.SetMaximumNumberOfIterations([int(num_iterations)] * numberFittingLevels)  # optional\n",
    "    corrector.SetNumberOfControlPoints([int(num_control_points)] * spline_order)  # se non lo definisci, vettore sarà pari\n",
    "\n",
    "    \"Apply correction through N4BiasField algorithm\"\n",
    "    corrected_image = corrector.Execute(image, maskImage)  # immagine senza bias field sottocampionata\n",
    "\n",
    "    \"Transform the corrected output image in a nparray type\"\n",
    "    corrected_image_np = sitk.GetArrayFromImage(corrected_image)\n",
    "\n",
    "    #\"Compute and visualize the bias field in the log domain\"\n",
    "    log_bias_field = corrector.GetLogBiasFieldAsImage(image)\n",
    "\n",
    "\n",
    "    \"Compute and visualize the corrected image in the original resolution\"\n",
    "    log_bias_field = sitk.Cast(log_bias_field, sitk.sitkFloat64)\n",
    "    corrected_image2 = image / sitk.Exp(log_bias_field)\n",
    "    corrected_image2_np = sitk.GetArrayFromImage(corrected_image2)\n",
    "    \n",
    "    return corrected_image2, corrected_image2_np,mask_otsu\n",
    "    "
   ]
  },
  {
   "cell_type": "code",
   "execution_count": 8,
   "id": "3bfc4e90-9288-49a4-9597-e21804e6b073",
   "metadata": {},
   "outputs": [],
   "source": [
    "dir_images =  '/home/riccardo/Scrivania/Volumi_fegato_nifti/Complete/Vol/'\n",
    "dir_labels = '/home/riccardo/Scrivania/Volumi_fegato_nifti/Complete/Seg/'\n",
    "\n",
    "images = os.listdir(dir_images)\n",
    "labels =  os.listdir(dir_labels)"
   ]
  },
  {
   "cell_type": "code",
   "execution_count": 9,
   "id": "df447a69-6c0f-4e80-ab39-11cdb7c4f195",
   "metadata": {},
   "outputs": [],
   "source": [
    "image = sitk.ReadImage(dir_images+images[1], sitk.sitkFloat64)\n",
    "segment = sitk.ReadImage(dir_labels+images[1], sitk.sitkUInt8)"
   ]
  },
  {
   "cell_type": "code",
   "execution_count": 11,
   "id": "2947f6c7-94ba-4559-bc09-0d6752119140",
   "metadata": {
    "tags": []
   },
   "outputs": [],
   "source": [
    "def N4_loop(img):\n",
    "    \n",
    "    print(img,img[:-4])\n",
    "    if img[:-4]+'_N4BF.npy' not in os.listdir('N4BiasField/') and not img.startswith('.'):\n",
    "    \n",
    "        image = sitk.ReadImage(dir_images+img, sitk.sitkFloat64)\n",
    "        #segment = sitk.ReadImage(dir_labels+img, sitk.sitkUInt8)\n",
    "        if image.GetDirection()!=segment.GetDirection():\n",
    "            image = sitk.DICOMOrient(image, 'LPS')\n",
    "        n4_bfc, corrected_image_np,mask_otsu = N4_bias_field(image)\n",
    "        \n",
    "        np.save('N4BiasField/'+img[:-4]+'_N4BF.npy',corrected_image_np)\n",
    "        np.save('N4BiasField/'+img[:-4]+'_OM.npy',corrected_image_np)\n",
    "        #sitk.WriteImage(n4_bfc,'N4BiasField/'+img[:-4]+'_N4BF.nii.gz',useCompression=True)\n",
    "\n",
    "\n",
    "        '''fig,ax = plt.subplots(1,4,figsize = (20,10),dpi = 200)\n",
    "\n",
    "        ax[0].imshow(image_np[plane_to_plot,:,:],cmap = 'gray')\n",
    "        ax[1].imshow(corrected_image_np[plane_to_plot,:,:],cmap = 'gray')\n",
    "        ax[2].imshow(mask_otsu[plane_to_plot,:,:],cmap = 'gray')\n",
    "\n",
    "\n",
    "        ax[3].imshow(corrected_image_np[plane_to_plot,:,:],cmap = 'gray')\n",
    "        ax[3].imshow(segment_np[plane_to_plot,:,:],alpha = 0.3)\n",
    "\n",
    "        a = ax[0].set_title('Original')\n",
    "        a = ax[2].set_title('Otsu Mask')\n",
    "        a = ax[1].set_title('N4BiasField')\n",
    "        a = ax[3].set_title('Segment')'''\n",
    "    #plt.savefig('CheckN4BiasField/'+img[:-4]+'.png')"
   ]
  },
  {
   "cell_type": "code",
   "execution_count": 12,
   "id": "a84e37dc-722d-49de-95de-38b848487f8a",
   "metadata": {},
   "outputs": [],
   "source": [
    "from joblib import Parallel, delayed\n",
    "from tqdm import tqdm"
   ]
  },
  {
   "cell_type": "code",
   "execution_count": 22,
   "id": "5b3a2d8b-f362-4930-bd5c-25001e73e0f8",
   "metadata": {},
   "outputs": [
    {
     "name": "stderr",
     "output_type": "stream",
     "text": [
      "100%|█████████████████████████████████████████| 21/21 [00:00<00:00, 9724.04it/s]\n"
     ]
    },
    {
     "name": "stdout",
     "output_type": "stream",
     "text": [
      ".DS_Store .DS_S\n"
     ]
    },
    {
     "name": "stderr",
     "output_type": "stream",
     "text": [
      "\n",
      "KeyboardInterrupt\n",
      "\n"
     ]
    }
   ],
   "source": [
    "Parallel(n_jobs=-1)(delayed(N4_loop)(i) for i in tqdm(images))"
   ]
  },
  {
   "cell_type": "code",
   "execution_count": 13,
   "id": "75150410-213d-493d-932b-545f4c5b30ec",
   "metadata": {
    "collapsed": true,
    "jupyter": {
     "outputs_hidden": true
    },
    "tags": []
   },
   "outputs": [
    {
     "name": "stderr",
     "output_type": "stream",
     "text": [
      "  0%|                                                   | 0/286 [00:00<?, ?it/s]"
     ]
    },
    {
     "name": "stdout",
     "output_type": "stream",
     "text": [
      "126_P.nii 126_P\n",
      "162_ES.nii 162_ES\n"
     ]
    },
    {
     "name": "stderr",
     "output_type": "stream",
     "text": [
      "  1%|▎                                        | 2/286 [03:10<7:31:58, 95.49s/it]"
     ]
    },
    {
     "name": "stdout",
     "output_type": "stream",
     "text": [
      "67_P.nii 67_P\n",
      "119_P.nii 119_P\n",
      "114_ES.nii 114_ES\n",
      "39_P.nii 39_P\n",
      "161_ES.nii 161_ES\n",
      "169_P.nii 169_P\n",
      "71_P.nii 71_P\n",
      "31_P.nii 31_P\n",
      "9_ES.nii 9_ES\n",
      "172_ES.nii 172_ES\n",
      "43_P.nii 43_P\n",
      "141_P.nii 141_P\n"
     ]
    },
    {
     "name": "stderr",
     "output_type": "stream",
     "text": [
      "  5%|█▉                                      | 14/286 [04:12<1:06:01, 14.56s/it]"
     ]
    },
    {
     "name": "stdout",
     "output_type": "stream",
     "text": [
      "143_ES.nii 143_ES\n"
     ]
    },
    {
     "name": "stderr",
     "output_type": "stream",
     "text": [
      "  5%|██                                      | 15/286 [05:04<1:21:57, 18.15s/it]"
     ]
    },
    {
     "name": "stdout",
     "output_type": "stream",
     "text": [
      "79_P.nii 79_P\n",
      "88_P.nii 88_P\n",
      "141_ES.nii 141_ES\n"
     ]
    },
    {
     "name": "stderr",
     "output_type": "stream",
     "text": [
      "  6%|██▌                                     | 18/286 [05:31<1:09:15, 15.50s/it]"
     ]
    },
    {
     "name": "stdout",
     "output_type": "stream",
     "text": [
      "162_P.nii 162_P\n",
      "164_ES.nii 164_ES\n",
      "178_P.nii 178_P\n",
      "174_P.nii 174_P\n",
      "82_ES.nii 82_ES\n",
      "173_P.nii 173_P\n",
      "24_ES.nii 24_ES\n",
      "98_P.nii 98_P\n",
      "57_P.nii 57_P\n",
      "83_P.nii 83_P\n",
      "59_P.nii 59_P\n",
      "42_ES.nii 42_ES\n",
      "29_ES.nii 29_ES\n",
      "124_ES.nii 124_ES\n",
      "108_ES.nii 108_ES\n"
     ]
    },
    {
     "name": "stderr",
     "output_type": "stream",
     "text": [
      " 12%|████▊                                     | 33/286 [05:32<21:17,  5.05s/it]"
     ]
    },
    {
     "name": "stdout",
     "output_type": "stream",
     "text": [
      "15_P.nii 15_P\n",
      "102_ES.nii 102_ES\n",
      "88_ES.nii 88_ES\n",
      "69_P.nii 69_P\n",
      "62_ES.nii 62_ES\n",
      "25_ES.nii 25_ES\n",
      "107_P.nii 107_P\n",
      "34_ES.nii 34_ES\n",
      "64_P.nii 64_P\n",
      "85_P.nii 85_P\n",
      "164_P.nii 164_P\n",
      "42_P.nii 42_P\n",
      "157_ES.nii 157_ES\n",
      "23_P.nii 23_P\n",
      "94_ES.nii 94_ES\n"
     ]
    },
    {
     "name": "stderr",
     "output_type": "stream",
     "text": [
      " 17%|███████                                   | 48/286 [05:34<10:30,  2.65s/it]"
     ]
    },
    {
     "name": "stdout",
     "output_type": "stream",
     "text": [
      "97_P.nii 97_P\n",
      "150_ES.nii 150_ES\n"
     ]
    },
    {
     "name": "stderr",
     "output_type": "stream",
     "text": [
      " 17%|███████▎                                  | 50/286 [06:12<15:50,  4.03s/it]"
     ]
    },
    {
     "name": "stdout",
     "output_type": "stream",
     "text": [
      "2_ES.nii 2_ES\n",
      "27_ES.nii 27_ES\n",
      "87_ES.nii 87_ES\n",
      "54_P.nii 54_P\n"
     ]
    },
    {
     "name": "stderr",
     "output_type": "stream",
     "text": [
      " 19%|███████▉                                  | 54/286 [06:14<12:58,  3.35s/it]"
     ]
    },
    {
     "name": "stdout",
     "output_type": "stream",
     "text": [
      "76_ES.nii 76_ES\n",
      "158_P.nii 158_P\n",
      "7_P.nii 7_P\n",
      "173_ES.nii 173_ES\n",
      "38_P.nii 38_P\n",
      "25_P.nii 25_P\n",
      "153_P.nii 153_P\n"
     ]
    },
    {
     "name": "stderr",
     "output_type": "stream",
     "text": [
      " 21%|████████▉                                 | 61/286 [07:53<25:59,  6.93s/it]"
     ]
    },
    {
     "name": "stdout",
     "output_type": "stream",
     "text": [
      "28_ES.nii 28_ES\n",
      "180_ES.nii 180_ES\n",
      "84_P.nii 84_P\n",
      "50_P.nii 50_P\n"
     ]
    },
    {
     "name": "stderr",
     "output_type": "stream",
     "text": [
      " 23%|█████████▌                                | 65/286 [07:54<20:15,  5.50s/it]"
     ]
    },
    {
     "name": "stdout",
     "output_type": "stream",
     "text": [
      "156_ES.nii 156_ES\n"
     ]
    },
    {
     "name": "stderr",
     "output_type": "stream",
     "text": [
      " 23%|█████████▏                              | 66/286 [10:35<1:00:20, 16.46s/it]"
     ]
    },
    {
     "name": "stdout",
     "output_type": "stream",
     "text": [
      "68_P.nii 68_P\n",
      "36_ES.nii 36_ES\n",
      "61_P.nii 61_P\n",
      "12_P.nii 12_P\n",
      "8_ES.nii 8_ES\n",
      "10_P.nii 10_P\n",
      "97_ES.nii 97_ES\n"
     ]
    },
    {
     "name": "stderr",
     "output_type": "stream",
     "text": [
      " 26%|██████████▋                               | 73/286 [10:36<34:25,  9.70s/it]"
     ]
    },
    {
     "name": "stdout",
     "output_type": "stream",
     "text": [
      "9_P.nii 9_P\n",
      "148_P.nii 148_P\n"
     ]
    },
    {
     "name": "stderr",
     "output_type": "stream",
     "text": [
      " 26%|███████████                               | 75/286 [12:24<56:35, 16.09s/it]"
     ]
    },
    {
     "name": "stdout",
     "output_type": "stream",
     "text": [
      "45_P.nii 45_P\n",
      "81_ES.nii 81_ES\n",
      "111_P.nii 111_P\n",
      "73_P.nii 73_P\n"
     ]
    },
    {
     "name": "stderr",
     "output_type": "stream",
     "text": [
      " 28%|███████████▌                              | 79/286 [12:25<39:32, 11.46s/it]"
     ]
    },
    {
     "name": "stdout",
     "output_type": "stream",
     "text": [
      "50_ES.nii 50_ES\n"
     ]
    },
    {
     "name": "stderr",
     "output_type": "stream",
     "text": [
      " 28%|███████████▋                              | 80/286 [12:26<35:50, 10.44s/it]"
     ]
    },
    {
     "name": "stdout",
     "output_type": "stream",
     "text": [
      "30_P.nii 30_P\n",
      "123_ES.nii 123_ES\n",
      "34_P.nii 34_P\n",
      "30_ES.nii 30_ES\n",
      "124_P.nii 124_P\n",
      "104_P.nii 104_P\n",
      "59_ES.nii 59_ES\n",
      "1_ES.nii 1_ES\n",
      "28_P.nii 28_P\n",
      "31_ES.nii 31_ES\n",
      "165_ES.nii 165_ES\n",
      "106_ES.nii 106_ES\n",
      "22_ES.nii 22_ES\n",
      "148_ES.nii 148_ES\n"
     ]
    },
    {
     "name": "stderr",
     "output_type": "stream",
     "text": [
      " 33%|█████████████▊                            | 94/286 [14:14<27:45,  8.67s/it]"
     ]
    },
    {
     "name": "stdout",
     "output_type": "stream",
     "text": [
      "158_ES.nii 158_ES\n",
      "22_P.nii 22_P\n",
      "123_P.nii 123_P\n",
      "152_P.nii 152_P\n"
     ]
    },
    {
     "name": "stderr",
     "output_type": "stream",
     "text": [
      " 34%|██████████████▍                           | 98/286 [15:06<30:01,  9.58s/it]"
     ]
    },
    {
     "name": "stdout",
     "output_type": "stream",
     "text": [
      "58_P.nii 58_P\n",
      "131_ES.nii 131_ES\n"
     ]
    },
    {
     "name": "stderr",
     "output_type": "stream",
     "text": [
      " 35%|██████████████▎                          | 100/286 [15:06<25:56,  8.37s/it]"
     ]
    },
    {
     "name": "stdout",
     "output_type": "stream",
     "text": [
      "101_ES.nii 101_ES\n",
      "44_P.nii 44_P\n"
     ]
    },
    {
     "name": "stderr",
     "output_type": "stream",
     "text": [
      " 36%|██████████████▌                          | 102/286 [15:09<22:15,  7.26s/it]"
     ]
    },
    {
     "name": "stdout",
     "output_type": "stream",
     "text": [
      "63_P.nii 63_P\n",
      "21_P.nii 21_P\n",
      "73_ES.nii 73_ES\n"
     ]
    },
    {
     "name": "stderr",
     "output_type": "stream",
     "text": [
      " 37%|███████████████                          | 105/286 [15:10<16:36,  5.51s/it]"
     ]
    },
    {
     "name": "stdout",
     "output_type": "stream",
     "text": [
      "75_P.nii 75_P\n",
      "47_P.nii 47_P\n",
      "51_ES.nii 51_ES\n",
      "172_P.nii 172_P\n",
      "142_ES.nii 142_ES\n"
     ]
    },
    {
     "name": "stderr",
     "output_type": "stream",
     "text": [
      " 38%|███████████████▊                         | 110/286 [15:43<17:14,  5.88s/it]"
     ]
    },
    {
     "name": "stdout",
     "output_type": "stream",
     "text": [
      "3_P.nii 3_P\n",
      "175_ES.nii 175_ES\n",
      "71_ES.nii 71_ES\n",
      "140_ES.nii 140_ES\n"
     ]
    },
    {
     "name": "stderr",
     "output_type": "stream",
     "text": [
      " 40%|████████████████▎                        | 114/286 [16:48<25:58,  9.06s/it]"
     ]
    },
    {
     "name": "stdout",
     "output_type": "stream",
     "text": [
      "149_ES.nii 149_ES\n"
     ]
    },
    {
     "name": "stderr",
     "output_type": "stream",
     "text": [
      " 40%|████████████████▍                        | 115/286 [17:31<34:59, 12.28s/it]"
     ]
    },
    {
     "name": "stdout",
     "output_type": "stream",
     "text": [
      "41_P.nii 41_P\n",
      "119_ES.nii 119_ES\n",
      "2_P.nii 2_P\n",
      "39_ES.nii 39_ES\n",
      "91_ES.nii 91_ES\n",
      "56_ES.nii 56_ES\n",
      "169_ES.nii 169_ES\n",
      "99_P.nii 99_P\n"
     ]
    },
    {
     "name": "stderr",
     "output_type": "stream",
     "text": [
      " 43%|█████████████████▋                       | 123/286 [17:33<16:13,  5.97s/it]"
     ]
    },
    {
     "name": "stdout",
     "output_type": "stream",
     "text": [
      "72_ES.nii 72_ES\n",
      "113_ES.nii 113_ES\n",
      "90_P.nii 90_P\n",
      "176_ES.nii 176_ES\n",
      "83_ES.nii 83_ES\n",
      "155_ES.nii 155_ES\n"
     ]
    },
    {
     "name": "stderr",
     "output_type": "stream",
     "text": [
      " 45%|██████████████████▍                      | 129/286 [18:37<20:06,  7.68s/it]"
     ]
    },
    {
     "name": "stdout",
     "output_type": "stream",
     "text": [
      "16_P.nii 16_P\n",
      "61_ES.nii 61_ES\n",
      "132_ES.nii 132_ES\n",
      "154_P.nii 154_P\n"
     ]
    },
    {
     "name": "stderr",
     "output_type": "stream",
     "text": [
      " 47%|███████████████████                      | 133/286 [19:29<22:57,  9.00s/it]"
     ]
    },
    {
     "name": "stdout",
     "output_type": "stream",
     "text": [
      "112_ES.nii 112_ES\n"
     ]
    },
    {
     "name": "stderr",
     "output_type": "stream",
     "text": [
      " 47%|███████████████████▏                     | 134/286 [19:29<21:00,  8.29s/it]"
     ]
    },
    {
     "name": "stdout",
     "output_type": "stream",
     "text": [
      "125_ES.nii 125_ES\n",
      "75_ES.nii 75_ES\n",
      "51_P.nii 51_P\n",
      "23_ES.nii 23_ES\n",
      "116_P.nii 116_P\n",
      "110_ES.nii 110_ES\n",
      "166_P.nii 166_P\n",
      "58_ES.nii 58_ES\n",
      "126_ES.nii 126_ES\n",
      "150_P.nii 150_P\n"
     ]
    },
    {
     "name": "stderr",
     "output_type": "stream",
     "text": [
      " 50%|████████████████████▋                    | 144/286 [19:56<12:21,  5.22s/it]"
     ]
    },
    {
     "name": "stdout",
     "output_type": "stream",
     "text": [
      "107_ES.nii 107_ES\n",
      "140_P.nii 140_P\n"
     ]
    },
    {
     "name": "stderr",
     "output_type": "stream",
     "text": [
      " 51%|████████████████████▉                    | 146/286 [20:45<18:13,  7.81s/it]"
     ]
    },
    {
     "name": "stdout",
     "output_type": "stream",
     "text": [
      "131_P.nii 131_P\n"
     ]
    },
    {
     "name": "stderr",
     "output_type": "stream",
     "text": [
      " 51%|█████████████████████                    | 147/286 [20:45<16:38,  7.18s/it]"
     ]
    },
    {
     "name": "stdout",
     "output_type": "stream",
     "text": [
      "91_P.nii 91_P\n",
      "112_P.nii 112_P\n"
     ]
    },
    {
     "name": "stderr",
     "output_type": "stream",
     "text": [
      " 52%|█████████████████████▎                   | 149/286 [20:46<13:14,  5.80s/it]"
     ]
    },
    {
     "name": "stdout",
     "output_type": "stream",
     "text": [
      "52_P.nii 52_P\n",
      "144_P.nii 144_P\n"
     ]
    },
    {
     "name": "stderr",
     "output_type": "stream",
     "text": [
      " 53%|█████████████████████▋                   | 151/286 [21:55<27:27, 12.21s/it]"
     ]
    },
    {
     "name": "stdout",
     "output_type": "stream",
     "text": [
      "32_ES.nii 32_ES\n",
      "161_P.nii.gz 161_P.ni\n",
      "171_ES.nii 171_ES\n",
      "43_ES.nii 43_ES\n",
      "10_ES.nii 10_ES\n",
      "1_P.nii 1_P\n",
      "109_P.nii 109_P\n",
      "20_P.nii 20_P\n",
      "170_ES.nii 170_ES\n",
      "146_ES.nii 146_ES\n"
     ]
    },
    {
     "name": "stderr",
     "output_type": "stream",
     "text": [
      " 56%|███████████████████████                  | 161/286 [22:47<16:25,  7.89s/it]"
     ]
    },
    {
     "name": "stdout",
     "output_type": "stream",
     "text": [
      "111_ES.nii 111_ES\n",
      "118_ES.nii 118_ES\n"
     ]
    },
    {
     "name": "stderr",
     "output_type": "stream",
     "text": [
      " 57%|███████████████████████▎                 | 163/286 [22:47<13:50,  6.76s/it]"
     ]
    },
    {
     "name": "stdout",
     "output_type": "stream",
     "text": [
      "15_ES.nii 15_ES\n",
      "52_ES.nii 52_ES\n",
      "121_ES.nii 121_ES\n",
      "26_ES.nii 26_ES\n",
      "132_P.nii 132_P\n",
      "16_ES.nii 16_ES\n",
      "153_ES.nii 153_ES\n"
     ]
    },
    {
     "name": "stderr",
     "output_type": "stream",
     "text": [
      " 59%|████████████████████████▎                | 170/286 [24:04<16:32,  8.56s/it]"
     ]
    },
    {
     "name": "stdout",
     "output_type": "stream",
     "text": [
      "175_P.nii 175_P\n",
      "87_P.nii 87_P\n",
      "40_P.nii 40_P\n",
      "72_P.nii 72_P\n",
      "116_ES.nii 116_ES\n",
      "65_P.nii 65_P\n"
     ]
    },
    {
     "name": "stderr",
     "output_type": "stream",
     "text": [
      " 62%|█████████████████████████▏               | 176/286 [24:05<10:22,  5.65s/it]"
     ]
    },
    {
     "name": "stdout",
     "output_type": "stream",
     "text": [
      "46_P.nii 46_P\n",
      "47_ES.nii 47_ES\n",
      "49_ES.nii 49_ES\n"
     ]
    },
    {
     "name": "stderr",
     "output_type": "stream",
     "text": [
      " 63%|█████████████████████████▋               | 179/286 [24:07<08:21,  4.69s/it]"
     ]
    },
    {
     "name": "stdout",
     "output_type": "stream",
     "text": [
      "29_P.nii 29_P\n",
      "66_P.nii 66_P\n",
      "180_P.nii 180_P\n",
      "4_P.nii 4_P\n",
      "60_ES.nii 60_ES\n",
      "171_P.nii 171_P\n",
      "17_ES.nii 17_ES\n",
      "68_ES.nii 68_ES\n",
      "155_P.nii 155_P\n"
     ]
    },
    {
     "name": "stderr",
     "output_type": "stream",
     "text": [
      " 66%|██████████████████████████▉              | 188/286 [25:06<09:04,  5.55s/it]"
     ]
    },
    {
     "name": "stdout",
     "output_type": "stream",
     "text": [
      "65_ES.nii 65_ES\n"
     ]
    },
    {
     "name": "stderr",
     "output_type": "stream",
     "text": [
      " 66%|███████████████████████████              | 189/286 [25:07<08:26,  5.22s/it]"
     ]
    },
    {
     "name": "stdout",
     "output_type": "stream",
     "text": [
      "41_ES.nii 41_ES\n",
      "11_P.nii 11_P\n",
      "49_P.nii 49_P\n"
     ]
    },
    {
     "name": "stderr",
     "output_type": "stream",
     "text": [
      " 67%|███████████████████████████▌             | 192/286 [25:09<06:36,  4.22s/it]"
     ]
    },
    {
     "name": "stdout",
     "output_type": "stream",
     "text": [
      "84_ES.nii 84_ES\n",
      "165_P.nii 165_P\n",
      "144_ES.nii 144_ES\n"
     ]
    },
    {
     "name": "stderr",
     "output_type": "stream",
     "text": [
      " 68%|███████████████████████████▉             | 195/286 [26:18<13:16,  8.75s/it]"
     ]
    },
    {
     "name": "stdout",
     "output_type": "stream",
     "text": [
      "20_ES.nii 20_ES\n",
      "106_P.nii 106_P\n",
      "157_P.nii 157_P\n",
      "95_ES.nii 95_ES\n",
      "5_ES.nii 5_ES\n",
      "54_ES.nii 54_ES\n"
     ]
    },
    {
     "name": "stderr",
     "output_type": "stream",
     "text": [
      " 70%|████████████████████████████▊            | 201/286 [26:20<07:33,  5.33s/it]"
     ]
    },
    {
     "name": "stdout",
     "output_type": "stream",
     "text": [
      "110_P.nii 110_P\n",
      "109_ES.nii 109_ES\n",
      "114_P.nii 114_P\n",
      "104_ES.nii 104_ES\n",
      "37_P.nii 37_P\n",
      "6_P.nii 6_P\n",
      "81_P.nii 81_P\n",
      "176_P.nii 176_P\n",
      "159_ES.nii 159_ES\n",
      "163_ES.nii 163_ES\n",
      "24_P.nii 24_P\n",
      "45_ES.nii 45_ES\n",
      "102_P.nii 102_P\n",
      "142_P.nii 142_P\n"
     ]
    },
    {
     "name": "stderr",
     "output_type": "stream",
     "text": [
      " 75%|██████████████████████████████▊          | 215/286 [27:00<04:37,  3.91s/it]"
     ]
    },
    {
     "name": "stdout",
     "output_type": "stream",
     "text": [
      "7_ES.nii 7_ES\n",
      "159_P.nii 159_P\n",
      "4_ES.nii 4_ES\n",
      "152_ES.nii 152_ES\n"
     ]
    },
    {
     "name": "stderr",
     "output_type": "stream",
     "text": [
      " 77%|███████████████████████████████▍         | 219/286 [28:07<07:03,  6.32s/it]"
     ]
    },
    {
     "name": "stdout",
     "output_type": "stream",
     "text": [
      "40_ES.nii 40_ES\n",
      "3_ES.nii 3_ES\n",
      "149_P.nii 149_P\n"
     ]
    },
    {
     "name": "stderr",
     "output_type": "stream",
     "text": [
      " 78%|███████████████████████████████▊         | 222/286 [29:02<08:58,  8.41s/it]"
     ]
    },
    {
     "name": "stdout",
     "output_type": "stream",
     "text": [
      "86_ES.nii 86_ES\n",
      "125_P.nii 125_P\n",
      "8_P.nii 8_P\n",
      "118_P.nii 118_P\n"
     ]
    },
    {
     "name": "stderr",
     "output_type": "stream",
     "text": [
      " 79%|████████████████████████████████▍        | 226/286 [29:03<06:23,  6.39s/it]"
     ]
    },
    {
     "name": "stdout",
     "output_type": "stream",
     "text": [
      "113_P.nii 113_P\n",
      "143_P.nii 143_P\n"
     ]
    },
    {
     "name": "stderr",
     "output_type": "stream",
     "text": [
      " 80%|████████████████████████████████▋        | 228/286 [30:17<10:35, 10.96s/it]"
     ]
    },
    {
     "name": "stdout",
     "output_type": "stream",
     "text": [
      "121_P.nii 121_P\n",
      "17_P.nii 17_P\n",
      "98_ES.nii 98_ES\n",
      "80_ES.nii 80_ES\n",
      "38_ES.nii 38_ES\n",
      "32_P.nii 32_P\n",
      "174_ES.nii 174_ES\n",
      "156_P.nii 156_P\n"
     ]
    },
    {
     "name": "stderr",
     "output_type": "stream",
     "text": [
      " 83%|█████████████████████████████████▊       | 236/286 [32:54<12:24, 14.90s/it]"
     ]
    },
    {
     "name": "stdout",
     "output_type": "stream",
     "text": [
      "21_ES.nii 21_ES\n",
      "86_P.nii 86_P\n",
      "64_ES.nii 64_ES\n",
      "146_P.nii 146_P\n"
     ]
    },
    {
     "name": "stderr",
     "output_type": "stream",
     "text": [
      " 84%|██████████████████████████████████▍      | 240/286 [34:45<13:51, 18.07s/it]"
     ]
    },
    {
     "name": "stdout",
     "output_type": "stream",
     "text": [
      "57_ES.nii 57_ES\n",
      "26_P.nii 26_P\n",
      "122_ES.nii 122_ES\n",
      "170_P.nii 170_P\n",
      "92_P.nii 92_P\n",
      "53_P.nii 53_P\n",
      "5_P.nii 5_P\n",
      "70_P.nii 70_P\n",
      "92_ES.nii 92_ES\n",
      "44_ES.nii 44_ES\n"
     ]
    },
    {
     "name": "stderr",
     "output_type": "stream",
     "text": [
      " 87%|███████████████████████████████████▊     | 250/286 [34:47<05:50,  9.73s/it]"
     ]
    },
    {
     "name": "stdout",
     "output_type": "stream",
     "text": [
      "82_P.nii 82_P\n",
      "14_ES.nii 14_ES\n",
      "163_P.nii 163_P\n",
      "69_ES.nii 69_ES\n",
      "53_ES.nii 53_ES\n",
      "79_ES.nii 79_ES\n",
      "46_ES.nii 46_ES\n",
      "108_P.nii 108_P\n"
     ]
    },
    {
     "name": "stderr",
     "output_type": "stream",
     "text": [
      " 90%|████████████████████████████████████▉    | 258/286 [34:48<02:58,  6.36s/it]"
     ]
    },
    {
     "name": "stdout",
     "output_type": "stream",
     "text": [
      "14_P.nii 14_P\n",
      "67_ES.nii 67_ES\n",
      "37_ES.nii 37_ES\n",
      "85_ES.nii 85_ES\n",
      "115_P.nii 115_P\n",
      "62_P.nii 62_P\n",
      "94_P.nii 94_P\n"
     ]
    },
    {
     "name": "stderr",
     "output_type": "stream",
     "text": [
      " 93%|█████████████████████████████████████▉   | 265/286 [34:50<01:35,  4.54s/it]"
     ]
    },
    {
     "name": "stdout",
     "output_type": "stream",
     "text": [
      "63_ES.nii 63_ES\n",
      "11_ES.nii 11_ES\n",
      "122_P.nii 122_P\n",
      "70_ES.nii 70_ES\n",
      "101_P.nii 101_P\n",
      "60_P.nii 60_P\n",
      "36_P.nii 36_P\n",
      "99_ES.nii 99_ES\n"
     ]
    },
    {
     "name": "stderr",
     "output_type": "stream",
     "text": [
      " 95%|███████████████████████████████████████▏ | 273/286 [34:53<00:40,  3.13s/it]"
     ]
    },
    {
     "name": "stdout",
     "output_type": "stream",
     "text": [
      "178_ES.nii 178_ES\n",
      "95_P.nii 95_P\n",
      "115_ES.nii 115_ES\n",
      "154_ES.nii 154_ES\n"
     ]
    },
    {
     "name": "stderr",
     "output_type": "stream",
     "text": [
      " 97%|███████████████████████████████████████▋ | 277/286 [35:27<00:37,  4.18s/it]"
     ]
    },
    {
     "name": "stdout",
     "output_type": "stream",
     "text": [
      "12_ES.nii 12_ES\n",
      "76_P.nii 76_P\n",
      "80_P.nii 80_P\n",
      "6_ES.nii 6_ES\n",
      "27_P.nii 27_P\n",
      "66_ES.nii 66_ES\n",
      "90_ES.nii 90_ES\n",
      "56_P.nii 56_P\n",
      "166_ES.nii 166_ES\n"
     ]
    },
    {
     "name": "stderr",
     "output_type": "stream",
     "text": [
      "100%|█████████████████████████████████████████| 286/286 [39:27<00:00,  8.28s/it]\n"
     ]
    }
   ],
   "source": [
    "for i in tqdm(images):\n",
    "    N4_loop(i)"
   ]
  },
  {
   "cell_type": "code",
   "execution_count": null,
   "id": "5ef35bf7-b248-4f94-ab11-56c1b5845d58",
   "metadata": {},
   "outputs": [],
   "source": []
  }
 ],
 "metadata": {
  "kernelspec": {
   "display_name": "Python 3 (ipykernel)",
   "language": "python",
   "name": "python3"
  },
  "language_info": {
   "codemirror_mode": {
    "name": "ipython",
    "version": 3
   },
   "file_extension": ".py",
   "mimetype": "text/x-python",
   "name": "python",
   "nbconvert_exporter": "python",
   "pygments_lexer": "ipython3",
   "version": "3.9.18"
  }
 },
 "nbformat": 4,
 "nbformat_minor": 5
}
