{
 "cells": [
  {
   "cell_type": "markdown",
   "metadata": {},
   "source": [
    "## This script extracts features from the lesion core, after images have been normalized via histogram matching. \n",
    "All extracted features are saved in a file excel for further analysis\n",
    "\n",
    "Author: Edda Boccia"
   ]
  },
  {
   "cell_type": "code",
   "execution_count": 1,
   "metadata": {},
   "outputs": [],
   "source": [
    "import numpy as np\n",
    "import matplotlib.pyplot as plt\n",
    "import os\n",
    "import random\n",
    "import pandas as pd\n",
    "import pydicom\n",
    "import SimpleITK as sitk\n",
    "import time\n",
    "import nibabel as nib\n",
    "from scipy import ndimage\n",
    "from PIL import Image\n",
    "from sklearn import preprocessing\n",
    "%matplotlib inline\n",
    "import radiomics\n",
    "from radiomics import featureextractor  # This module is used for interaction with pyradiomics\n",
    "import six"
   ]
  },
  {
   "cell_type": "code",
   "execution_count": 2,
   "metadata": {},
   "outputs": [
    {
     "data": {
      "text/plain": [
       "True"
      ]
     },
     "execution_count": 2,
     "metadata": {},
     "output_type": "execute_result"
    }
   ],
   "source": [
    "## Initialize folders with images and segmentations\n",
    "\n",
    "folder_volume = 'path_to_nifti_volumes/'\n",
    "folder_seg = 'path_to_nifti_seg/'\n",
    "\n",
    "patientID_list=os.listdir(folder_volume)\n",
    "\n",
    "\n",
    "#### Function for Radiomics features' extraction on Portal Venous Phase (PVP) and Hepatobiliary Phase (HBP) on both tumor core ('core') and tumor ring ('ring') ####\n",
    "\n",
    "def analysis_recursive(patientID_list,method = 'PVP', roi = 'ring'):\n",
    "\n",
    "    ## Initialize dataframe to save Radiomics features\n",
    "    \n",
    "    df = pd.DataFrame()\n",
    "\n",
    "    # Select parameters for feature's extraction and initialize the extractor\n",
    "    paramPath = 'Params_binCount100.yaml'\n",
    "    extractor = featureextractor.RadiomicsFeatureExtractor(paramPath)\n",
    "\n",
    "    # Cycle on all patients\n",
    "    for patient in patientID_list:\n",
    "\n",
    "\n",
    "        ## Import patient volume and mask for the specific MRI sequence\n",
    "        path_patient_image = folder_volume + patient.split('_')[0]+method+'.nii.gz'\n",
    "        path_patient_seg = folder_seg + patient.split('_')[0]+method+'.nii.gz'\n",
    "        \n",
    "        img = sitk.ReadImage(path_patient_image)\n",
    "        seg = sitk.ReadImage(path_patient_seg)\n",
    "\n",
    "\n",
    "        ## Select the ROI        \n",
    "        if roi == 'core':\n",
    "            seg = sitk.Cast(seg==1,sitk.sitkUInt8)\n",
    "        else:\n",
    "            seg = sitk.Cast(seg==2,sitk.sitkUInt8)\n",
    "\n",
    "\n",
    "        ## Calculate Radiomics features\n",
    "\n",
    "        result = extractor.execute(img, seg)\n",
    "\n",
    "        \n",
    "        ## Save features in a pandas dataframe        \n",
    "\n",
    "        newd = {}\n",
    "        for key, value in six.iteritems(result):\n",
    "                d = {key : value}\n",
    "\n",
    "                newd.update({key : value})\n",
    "\n",
    "\n",
    "        df_old = df\n",
    "        df =pd.DataFrame.from_dict(newd, orient='index')\n",
    "        df.columns = [patient.split('_')[0]]\n",
    "        df[patient.split('_')[0]]=newd.values()\n",
    "        df = pd.concat ([df_old, df], axis=1)\n",
    "        \n",
    "    ## Save dataframe to excel file\n",
    "    \n",
    "    string_to_save = 'Radiomics_Features_'+method+'_'+roi+'.xlsx'\n",
    "    df_transposed = df.T  \n",
    "    df_transposed.index = df_transposed.index.astype('int')\n",
    "    df_transposed.to_excel(string_to_save)\n",
    "    return df_transposed\n",
    "        "
   ]
  },
  {
   "cell_type": "code",
   "execution_count": null,
   "metadata": {},
   "outputs": [],
   "source": [
    "print('PVP ring')\n",
    "df_transposed =analysis_recursive(patientID_list,method = 'PVP', roi = 'ring')\n",
    "print('PVP core')\n",
    "df_transposed =analysis_recursive(patientID_list,method = 'PVP', roi = 'core')\n",
    "print('HBP ring')\n",
    "df_transposed = analysis_recursive(patientID_list,method = 'HBP', roi = 'ring')\n",
    "print('HBP core')\n",
    "df_transposed =analysis_recursive(patientID_list,method = 'HBP', roi = 'core')\n",
    "\n"
   ]
  }
 ],
 "metadata": {
  "kernelspec": {
   "display_name": "Python 3 (ipykernel)",
   "language": "python",
   "name": "python3"
  },
  "language_info": {
   "codemirror_mode": {
    "name": "ipython",
    "version": 3
   },
   "file_extension": ".py",
   "mimetype": "text/x-python",
   "name": "python",
   "nbconvert_exporter": "python",
   "pygments_lexer": "ipython3",
   "version": "3.9.18"
  }
 },
 "nbformat": 4,
 "nbformat_minor": 4
}
